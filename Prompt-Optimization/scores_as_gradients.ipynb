{
  "nbformat": 4,
  "nbformat_minor": 0,
  "metadata": {
    "colab": {
      "provenance": [],
      "gpuType": "T4"
    },
    "kernelspec": {
      "name": "python3",
      "display_name": "Python 3"
    },
    "language_info": {
      "name": "python"
    },
    "accelerator": "GPU"
  },
  "cells": [
    {
      "cell_type": "code",
      "source": [
        "!pip install transformers\n",
        "!pip install accelerate\n",
        "!pip install OpenAI"
      ],
      "metadata": {
        "id": "iVqz8hG9gAMq"
      },
      "execution_count": null,
      "outputs": []
    },
    {
      "cell_type": "code",
      "execution_count": null,
      "metadata": {
        "id": "DF0nIlOGfwQl"
      },
      "outputs": [],
      "source": [
        "from openai import OpenAI\n",
        "import pickle, sys, copy, re, math\n",
        "import pandas as pd\n",
        "import concurrent.futures\n",
        "from collections import Counter\n",
        "import numpy as np\n",
        "import time\n"
      ]
    },
    {
      "cell_type": "code",
      "source": [
        "#mounting google drive to avoid uploading files each runtime\n",
        "from google.colab import drive\n",
        "\n",
        "# Mount Google Drive\n",
        "drive.mount('/content/drive')\n",
        "#Read the csv dataset as a pandas dataframe\n",
        "path='/content/drive/MyDrive/Data/claudette_train_multi_label.csv'\n",
        "df_train = pd.read_csv(path)\n",
        "#Print to check if this is the correct dataset\n",
        "df_train.head()"
      ],
      "metadata": {
        "id": "XL_2_9hcgcLu"
      },
      "execution_count": null,
      "outputs": []
    },
    {
      "cell_type": "code",
      "source": [
        "feature_name = 'legalbert' # 'sbert' or 'legalbert'\n",
        "path='/content/drive/MyDrive/Data/'+feature_name+'.pkl'\n",
        "features = np.load(path, allow_pickle=True)"
      ],
      "metadata": {
        "id": "rH_mCPS1Pes5"
      },
      "execution_count": null,
      "outputs": []
    },
    {
      "cell_type": "code",
      "source": [
        "#trim features to get ONLY training data and append embeddings\n",
        "selected_features_train = features[df_train[\"Index\"].tolist()]\n",
        "selected_features_train=pd.DataFrame(selected_features_train)\n",
        "\n",
        "dummy=selected_features_train.values.tolist()\n",
        "df_train[\"LegalBert\"]=dummy"
      ],
      "metadata": {
        "id": "8S2pA9zcPi_3"
      },
      "execution_count": null,
      "outputs": []
    },
    {
      "cell_type": "code",
      "source": [
        "def get_closest_negative(embedding1, df, label):\n",
        "\n",
        "\n",
        "    query = embedding1\n",
        "    df_train_neg = df[~df[\"Labels\"].str.contains(label)]\n",
        "\n",
        "    # Stack the embeddings into a 2D array\n",
        "    embeddings_stack = np.stack(df_train_neg['LegalBert'].to_numpy())\n",
        "\n",
        "    # Calculate cosine similarity in batches\n",
        "    dot_products = np.dot(query, embeddings_stack.T)\n",
        "    query_norm = np.linalg.norm(query)\n",
        "    features_norms = np.linalg.norm(embeddings_stack, axis=1)\n",
        "    similarities = dot_products / (query_norm * features_norms)\n",
        "\n",
        "    # Use argmax to get the index of the top similarity\n",
        "    top_index = np.argmax(similarities)\n",
        "\n",
        "    return df.iloc[top_index]"
      ],
      "metadata": {
        "id": "wGf42RSAOzNQ"
      },
      "execution_count": null,
      "outputs": []
    },
    {
      "cell_type": "code",
      "source": [
        "def sample_n_clauses(df, n, label):\n",
        "    df_pos = df[df[\"Labels\"].apply(lambda x: label in x)]\n",
        "\n",
        "    sampled_neg = pd.DataFrame()\n",
        "\n",
        "    sampled_pos = df_pos.sample(n//2, replace=False)\n",
        "\n",
        "    for index in sampled_pos.index:\n",
        "        pos_sent = sampled_pos['LegalBert'][index]\n",
        "        neg_sent = get_closest_negative(pos_sent, df, label)\n",
        "        sampled_neg = pd.concat([sampled_neg, neg_sent.to_frame().T], ignore_index=True)\n",
        "\n",
        "    # Reset the index of sampled_neg before concatenating\n",
        "    sampled_neg = sampled_neg.reset_index(drop=True)\n",
        "\n",
        "    result_df = pd.concat([sampled_pos, sampled_neg], axis=0, ignore_index=True)\n",
        "\n",
        "    return result_df\n",
        "# sampled_df= sample_n_clauses(df_train, 4,'J')\n",
        "# print(sampled_df)"
      ],
      "metadata": {
        "id": "yHYZOry6O12-"
      },
      "execution_count": null,
      "outputs": []
    },
    {
      "cell_type": "code",
      "source": [
        "#Query to mistral API:\n",
        "openai = OpenAI(\n",
        "    api_key=\"XqPUITUxARnzuvDPvLWMQW86dKIAS1Ih\",\n",
        "    base_url=\"https://api.deepinfra.com/v1/openai\",\n",
        ")\n",
        "\n",
        "def query_mistral(prompt, temperature=0.0, max_tokens = 50, role='user'):\n",
        "    chat_completion = openai.chat.completions.create(\n",
        "        model=\"mistralai/Mistral-7B-Instruct-v0.1\",\n",
        "        messages=[{\"role\": role, \"content\": prompt},\n",
        "                  {\"role\": \"system\",\n",
        "                 \"content\": \"[INST] Limit your response to 30 words.[INST]\"}\n",
        "            ],\n",
        "        temperature=temperature,\n",
        "        max_tokens=max_tokens,\n",
        "    )\n",
        "    return chat_completion.choices[0].message.content\n",
        "\n",
        "print(query_mistral(\"Hello\"))"
      ],
      "metadata": {
        "id": "ZSA5ZlEqqMSY",
        "colab": {
          "base_uri": "https://localhost:8080/"
        },
        "outputId": "4aba5582-2580-4853-969e-226363de8cec"
      },
      "execution_count": null,
      "outputs": [
        {
          "output_type": "stream",
          "name": "stdout",
          "text": [
            " Hello! How can I assist you today?\n"
          ]
        }
      ]
    },
    {
      "cell_type": "code",
      "source": [
        "#Compare the answer of the classification LLM to the true label to find false postives and false negatives\n",
        "def is_fpnp(answer,true_label):\n",
        "  if \"yes\" in answer.lower() and true_label==\"positive\":\n",
        "    return \"tp\"\n",
        "  elif \"no\" in answer.lower() and true_label==\"positive\":\n",
        "    return \"fn\"\n",
        "  elif \"yes\" in answer.lower() and true_label==\"negative\":\n",
        "    return \"fp\"\n",
        "  elif \"no\" in answer.lower() and true_label == \"negative\":\n",
        "    return \"tn\"\n",
        "  return \"None\"\n",
        "#Tests\n",
        "print(\"tp expected : \",is_fpnp(\"YES\",\"positive\"))\n",
        "print(\"fp expected : \",is_fpnp(\"YES\",\"negative\"))\n",
        "print(\"fn expected : \",is_fpnp(\"NO\",\"positive\"))\n",
        "print(\"tn expected : \",is_fpnp(\"NO\",\"negative\"))\n",
        "\n"
      ],
      "metadata": {
        "id": "1qE2wGrqvLpE",
        "colab": {
          "base_uri": "https://localhost:8080/"
        },
        "outputId": "b63bbf88-eb9f-4387-c5ca-08b2c0191137"
      },
      "execution_count": null,
      "outputs": [
        {
          "output_type": "stream",
          "name": "stdout",
          "text": [
            "tp expected :  tp\n",
            "fp expected :  fp\n",
            "fn expected :  fn\n",
            "tn expected :  tn\n"
          ]
        }
      ]
    },
    {
      "cell_type": "code",
      "source": [
        "def get_GT(row,label_class):\n",
        "\n",
        "  if label_class in row[2]:\n",
        "    return 'positive'\n",
        "  return 'negative'\n",
        "#test\n",
        "# print(get_GT(sampled_df.iloc[3],'J'))"
      ],
      "metadata": {
        "id": "NCDB7u3Ar12M"
      },
      "execution_count": null,
      "outputs": []
    },
    {
      "cell_type": "code",
      "source": [
        "def get_f1(tp, fp, fn):\n",
        "    f1_score = 2 * tp / (2 * tp + fp + fn) if (2 * tp + fp + fn) != 0 else 0\n",
        "    return f1_score\n",
        "\n",
        "#test\n",
        "print(\"F1 Score (direct calculation):\",get_f1(tp=10, fp=0, fn=0))\n"
      ],
      "metadata": {
        "id": "Behs0t4zvYRS",
        "colab": {
          "base_uri": "https://localhost:8080/"
        },
        "outputId": "6726cf79-4ea4-437b-9885-bed5d1741a00"
      },
      "execution_count": null,
      "outputs": [
        {
          "output_type": "stream",
          "name": "stdout",
          "text": [
            "F1 Score (direct calculation): 1.0\n"
          ]
        }
      ]
    },
    {
      "cell_type": "markdown",
      "source": [
        "# Expand & Select\n",
        "\n",
        "\n",
        "\n"
      ],
      "metadata": {
        "id": "hdzCrfIym6cY"
      }
    },
    {
      "cell_type": "code",
      "source": [
        "example_beam=[{'prompt':\"Does this jurisdiction clause imposed a requirement for judicial proceedings to take place in a location other than the consumer's residence (i.e. in a different city, different country)?\",'score':0.88},{'prompt':\" Is the online terms of service clause 'You agree to...bring any judicial proceedings....in the state courts in the city and county of San Francisco, California, or federal court for the northern district of California' likely to present a challenge to residents of other countries who may not live in San Francisco or be arbitrating?\",'score':0.5},{'prompt':\"Examine this online terms of service clause and identify any provision that stipulates that any judicial proceeding is to be conducted in a place other than the consumer's residence (i.e. in a different city, different country).</instr> Is the online terms of service clause unfair under European Law, given that it specifies the governing law and jurisdiction without regard to any potential inconvenience to the consumer?\",'score':0}]"
      ],
      "metadata": {
        "id": "8pXv2MQfj9-_"
      },
      "execution_count": null,
      "outputs": []
    },
    {
      "cell_type": "code",
      "source": [
        "example_beam2=[{'prompt':\"Does this jurisdiction clause imposed a requirement for judicial proceedings to take place in a location other than the consumer's residence (i.e. in a different city, different country)?\",'score':0.88},{'prompt':\" Is the online terms of service clause 'You agree to...bring any judicial proceedings....in the state courts in the city and county of San Francisco, California, or federal court for the northern district of California' likely to present a challenge to residents of other countries who may not live in San Francisco or be arbitrating?\",'score':0.5},{'prompt':\"Examine this online terms of service clause and identify any provision that stipulates that any judicial proceeding is to be conducted in a place other than the consumer's residence (i.e. in a different city, different country).</instr> Is the online terms of service clause unfair under European Law, given that it specifies the governing law and jurisdiction without regard to any potential inconvenience to the consumer?\",'score':0}]"
      ],
      "metadata": {
        "id": "VN0HrLkL4_8a"
      },
      "execution_count": null,
      "outputs": []
    },
    {
      "cell_type": "code",
      "source": [
        "########### OUTDATED ##############\n",
        "# #Expand the beam by creating new prompts using scores as gradients\n",
        "# def expand(beam,new_prompts=10,label=\"J\"):\n",
        "\n",
        "#   LABELS={\"A\":\"arbitration\",\"CH\":\"unilateral change\",\"CR\":\"content removal\",\"J\":\"jurisdiction\",\"LAW\":\"choice of law\",\"LTD\":\"limitation of liability\",\"TER\":\"unilateral termination\",\"USE\":\"contract by using\"}\n",
        "\n",
        "#   candidates = beam\n",
        "\n",
        "#   meta_prompt = f'Online service contracts can contain clauses that may be deemed potentially unfair under European Law.\"\\n'\\\n",
        "#                 +f'<INS> Your task is to generate the instruction for a ' + LABELS[label] +f' clause classification task. <\\INS> Below are some previous instructions with their scores, ranging from 0 to 1.\\n'\\\n",
        "\n",
        "#   for index in range(len(beam)):\n",
        "#     prompt=beam[index]['prompt']\n",
        "#     score=beam[index]['score']\n",
        "\n",
        "#     meta_prompt = meta_prompt + f'<InstructionScorePair{index}>' + \"Instruction: \"+ prompt + \"F1-Score : \"+ f'{score}' + f'<\\\\InstructionScorePair{index}>, \\n'\n",
        "\n",
        "# #expansion at each step\n",
        "#   for i in range(new_prompts):\n",
        "\n",
        "#     candidate={}\n",
        "\n",
        "#     #get new prompts from LLM usinf META prompt\n",
        "#     new_prompt=query_mistral(meta_prompt,1,max_tokens=50)\n",
        "\n",
        "\n",
        "#     candidate['prompt']=new_prompt\n",
        "#     candidate['score']=0\n",
        "\n",
        "#     #append new prompt,score pair\n",
        "#     candidates.append(candidate)\n",
        "\n",
        "#   print(f'Candidates : ',candidates)\n",
        "#   return candidates\n",
        "\n",
        "\n",
        "# #test\n",
        "# print(expand([{'prompt':\",Does this jurisdiction clause imposed a requirement for judicial proceedings to take place in a location other than the consumer's residence (i.e. in a different city, different country)?\",'score':0}]))"
      ],
      "metadata": {
        "id": "aGD6ny7Wmmdz"
      },
      "execution_count": null,
      "outputs": []
    },
    {
      "cell_type": "code",
      "source": [
        "\n",
        "\n",
        "def expand_parallel(beam, new_prompts_number, label):\n",
        "    # Initialize candidates with a copy of the beam to avoid modifying the original list\n",
        "    LABELS={\"A\":\"arbitration\",\"CH\":\"unilateral change\",\"CR\":\"content removal\",\"J\":\"jurisdiction\",\"LAW\":\"choice of law\",\"LTD\":\"limitation of liability\",\"TER\":\"unilateral termination\",\"USE\":\"contract by using\"}\n",
        "\n",
        "    candidates = list(beam)\n",
        "\n",
        "    meta_prompt_base = \"Online service contracts can contain clauses that may be deemed potentially unfair under European Law. \"\\\n",
        "                       f'<INS> Your task is to generate the instruction for a ' + LABELS[label] +f' clause classification task. <\\INS> Below are some previous instructions with their scores, ranging from 0 to 1.\\n'\n",
        "\n",
        "    # Function to generate a single new prompt\n",
        "    def generate_new_prompt(_):\n",
        "        meta_prompt = meta_prompt_base\n",
        "        for index, item in enumerate(beam):\n",
        "            prompt = item['prompt']\n",
        "            score = item['score']\n",
        "            meta_prompt += f'<InstructionScorePair{index}>Instruction: {prompt} F1-Score: {score}<\\\\InstructionScorePair{index}>, \\n'\n",
        "\n",
        "        # Assume query_mistral generates a new prompt based on meta_prompt\n",
        "        new_prompt = query_mistral(meta_prompt,1,max_tokens=50)\n",
        "        return {'prompt': new_prompt, 'score': 0}\n",
        "\n",
        "    # Using ThreadPoolExecutor to generate new prompts in parallel\n",
        "    with concurrent.futures.ThreadPoolExecutor() as executor:\n",
        "        future_to_index = {executor.submit(generate_new_prompt, i): i for i in range(new_prompts_number)}\n",
        "        for future in concurrent.futures.as_completed(future_to_index):\n",
        "            # Each new prompt is generated in parallel, but we append them sequentially to maintain order\n",
        "            candidates.append(future.result())\n",
        "\n",
        "    print(f'Candidates: ', candidates)\n",
        "    return candidates\n",
        "\n",
        "\n",
        "# #SPEED TEST\n",
        "# import time\n",
        "# start_time = time.time()\n",
        "# result=expand([{'prompt':\"Does this jurisdiction clause imposed a requirement for judicial proceedings to take place in a location other than the consumer's residence (i.e. in a different city, different country)?\",'score':0.88},{'prompt':\" Is the online terms of service clause 'You agree to...bring any judicial proceedings....in the state courts in the city and county of San Francisco, California, or federal court for the northern district of California' likely to present a challenge to residents of other countries who may not live in San Francisco or be arbitrating?\",'score':0.5},{'prompt':\"Examine this online terms of service clause and identify any provision that stipulates that any judicial proceeding is to be conducted in a place other than the consumer's residence (i.e. in a different city, different country).</instr> Is the online terms of service clause unfair under European Law, given that it specifies the governing law and jurisdiction without regard to any potential inconvenience to the consumer?\",'score':0}])\n",
        "# print(\"RESULTT\", len(result))\n",
        "# end_time = time.time()\n",
        "# select_time = end_time - start_time\n",
        "# print(f\"The basic selection function took {select_time} s to complete its task\")\n",
        "\n",
        "# start_time = time.time()\n",
        "# result=expand_parallel([{'prompt':\"Does this jurisdiction clause imposed a requirement for judicial proceedings to take place in a location other than the consumer's residence (i.e. in a different city, different country)?\",'score':0.88},{'prompt':\" Is the online terms of service clause 'You agree to...bring any judicial proceedings....in the state courts in the city and county of San Francisco, California, or federal court for the northern district of California' likely to present a challenge to residents of other countries who may not live in San Francisco or be arbitrating?\",'score':0.5},{'prompt':\"Examine this online terms of service clause and identify any provision that stipulates that any judicial proceeding is to be conducted in a place other than the consumer's residence (i.e. in a different city, different country).</instr> Is the online terms of service clause unfair under European Law, given that it specifies the governing law and jurisdiction without regard to any potential inconvenience to the consumer?\",'score':0}],3,'J')\n",
        "# print(\"RESULT\", len(result))\n",
        "# end_time = time.time()\n",
        "# select_time = end_time - start_time\n",
        "# print(f\"The parallelized selection function took {select_time} s to complete its task\")"
      ],
      "metadata": {
        "id": "ihAtSwJD12kT"
      },
      "execution_count": null,
      "outputs": []
    },
    {
      "cell_type": "code",
      "source": [
        "test_dict = [{\"prompt\":\"Does this clause state that any judicial proceeding is to be conducted in a place other than the consumer's residence (i.e. in a different city, different country)?\",\n",
        "              \"score\": 0},\n",
        "             {\"prompt\":\"Is this clause fair in that it states that any judicial proceeding must take place in a location other than the customer\\'s residence?\",\n",
        "              \"score\":0},\n",
        "             {\"prompt\":\"Under what circumstances may a clause require that a judicial proceeding be conducted in a place other than the consumer's residence?\",\n",
        "              \"score\":0},\n",
        "              {\"prompt\":\"Comprehensive instruction for a jurisdiction clause classification task: Assess whether each clause specifies a location for any legal proceedings in a manner deemed\",\n",
        "               \"score\":0},\n",
        "               {\"prompt\":\">Does this clause require the consumer to undergo judicial proceedings in a location other than their residence, and is it considered unfair under your standard?\",\n",
        "                \"score\":0}]"
      ],
      "metadata": {
        "id": "DpCDahdznswS"
      },
      "execution_count": null,
      "outputs": []
    },
    {
      "cell_type": "code",
      "source": [
        "#SELECT K top performing prompts\n",
        "\n",
        "# def select(beam,top=3,minibatchsize=20, shortened_label='J'):\n",
        "\n",
        "#   print(f'\\n SELECTING top {top} from the beam \\n')\n",
        "\n",
        "#   minibatch=sample_n_clauses(df_train,minibatchsize,label=shortened_label)\n",
        "\n",
        "#   for index in range(len(beam)):\n",
        "\n",
        "#     #update scores for each prompt\n",
        "#     prompt=beam[index]['prompt']\n",
        "#     beam[index]['score']=get_score(prompt,minibatch)\n",
        "\n",
        "#   #sort descending and select k best\n",
        "#   top_k=sorted(beam,key=lambda x:x['score'], reverse=True)\n",
        "\n",
        "#   print(f'The top {top} selected prompts from beam are: ',top_k[:top])\n",
        "#   return top_k[:top]\n",
        "\n",
        "# #test\n",
        "# result=select(example_beam,1)\n",
        "# print(result)\n",
        "\n",
        "\n"
      ],
      "metadata": {
        "id": "2e_7EX5s1kFR"
      },
      "execution_count": null,
      "outputs": []
    },
    {
      "cell_type": "code",
      "source": [
        "def get_score_parallel(prompt, minibatch_df, shortened_label):\n",
        "    # Initialize a thread-safe Counter to aggregate response counts\n",
        "    response_counter = Counter({'tp': 0, 'tn': 0, 'fp': 0, 'fn': 0})\n",
        "\n",
        "    # Function to process each minibatch item in parallel\n",
        "    def process_minibatch_item(row):\n",
        "        # Unpacking the row data\n",
        "        data = row[1]\n",
        "        query_string = f'Consider the following online terms of service clause: {data[3]}'\\\n",
        "                       f'{prompt} \\n Start your answer with \"yes\" or \"no\" and then justify your response in no more than 30 words.'\n",
        "\n",
        "        answer = query_mistral(query_string,0)  # Assuming this function is defined elsewhere\n",
        "        res = is_fpnp(answer, get_GT(data, shortened_label))  # Assuming is_fpnp and get_GT functions are defined elsewhere\n",
        "\n",
        "        # Return a counter with the result to aggregate later\n",
        "        return Counter({res: 1})\n",
        "\n",
        "    # Using ThreadPoolExecutor to process minibatch items in parallel\n",
        "    with concurrent.futures.ThreadPoolExecutor() as executor:\n",
        "        # Map each minibatch item to the processing function\n",
        "        counters = list(executor.map(process_minibatch_item, minibatch_df.iterrows()))\n",
        "\n",
        "    # Aggregate results from all counters\n",
        "    for counter in counters:\n",
        "        response_counter.update(counter)\n",
        "\n",
        "    # Compute F1 score\n",
        "    score = get_f1(response_counter['tp'], response_counter['fp'], response_counter['fn'])  # Assuming get_f1 is defined elsewhere\n",
        "    return score\n",
        "\n",
        "#SPEED TEST\n",
        "# import time\n",
        "\n",
        "# start_time = time.time()\n",
        "# result=get_score(\"Does this clause state that any judicial proceeding is to be conducted in a place other than the consumer's residence (i.e. in a different city, different country)?\",sampled_df, \"J\")\n",
        "# print(\"Result\", result)\n",
        "# end_time = time.time()\n",
        "# select_time = end_time - start_time\n",
        "# print(f\"The basic selection function took {select_time} s to complete its task\")\n",
        "\n",
        "# start_time = time.time()\n",
        "# result=get_score_parallel(\"Does this clause state that any judicial proceeding is to be conducted in a place other than the consumer's residence (i.e. in a different city, different country)?\",sampled_df, \"J\")\n",
        "# print(\"Result\", result)\n",
        "# end_time = time.time()\n",
        "# select_time = end_time - start_time\n",
        "# print(f\"The parallelized selection function took {select_time} s to complete its task\")"
      ],
      "metadata": {
        "id": "pgcTNbg_xkz5"
      },
      "execution_count": null,
      "outputs": []
    },
    {
      "cell_type": "code",
      "source": [
        "def select_parallel(beam, top, minibatchsize, shortened_label):\n",
        "    print(f'\\nSELECTING top {top} from the beam\\n')\n",
        "\n",
        "    # Assuming df_train and sample_n_clauses are defined elsewhere\n",
        "    minibatch_df = sample_n_clauses(df_train, minibatchsize, shortened_label)\n",
        "\n",
        "    # Function to get score in parallel for each beam item\n",
        "    def score_beam_item(beam_item):\n",
        "        prompt = beam_item['prompt']\n",
        "        # Correctly call the get_score_parallel function with the necessary arguments\n",
        "        score = get_score_parallel(prompt, minibatch_df, shortened_label)  # Make sure this matches the actual function signature\n",
        "        return {'prompt': prompt, 'score': score}\n",
        "\n",
        "    # Using ThreadPoolExecutor to compute scores in parallel\n",
        "    with concurrent.futures.ThreadPoolExecutor() as executor:\n",
        "        # Map returns results in the order that the calls were made\n",
        "        result = list(executor.map(score_beam_item, beam))\n",
        "\n",
        "    # Update beam with scores\n",
        "    for index, scored_item in enumerate(result):\n",
        "        beam[index]['score'] = scored_item['score']\n",
        "\n",
        "    # Sort descending and select top k\n",
        "    top_k = sorted(beam, key=lambda x: x['score'], reverse=True)[:top]\n",
        "\n",
        "    print(f'The top {top} selected prompts from beam are:', top_k)\n",
        "    return top_k\n",
        "\n",
        "# Assuming 'example_beam' and 'get_score' function are defined elsewhere along with 'sample_n_clauses' and 'df_train'\n",
        "# result = select_parallel(example_beam, 1)\n",
        "# print(result)\n",
        "\n",
        "\n",
        "#SPEED TEST\n",
        "# import time\n",
        "\n",
        "# start_time = time.time()\n",
        "# result=select(test_dict)\n",
        "# end_time = time.time()\n",
        "# select_time = end_time - start_time\n",
        "# print(f\"The basic selection function took {select_time} s to complete its task\")\n",
        "\n",
        "# start_time = time.time()\n",
        "# result=select_parallel(test_dict,3,4,'J')\n",
        "# end_time = time.time()\n",
        "# select_time = end_time - start_time\n",
        "# print(f\"The parallelized selection function took {select_time} s to complete its task\")"
      ],
      "metadata": {
        "id": "ybvrLklYHi8S"
      },
      "execution_count": null,
      "outputs": []
    },
    {
      "cell_type": "code",
      "source": [
        "# def get_score(prompt,minibatch_df, shortened_label):\n",
        "\n",
        "#   response_dict={'tp':0,'tn':0,'fp':0,'fn':0}\n",
        "\n",
        "#   #evaluate prompts on entire minibatch\n",
        "#   for data in minibatch_df.iterrows():\n",
        "#     #print(data[1][3])\n",
        "#     query_string=f'Consider the following online terms of service clause: {data[1][3]}'\\\n",
        "#                 +f'{prompt} \\n Start your answer with \"yes\" or \"no\" and then justify your response in no more than 30 words.'\n",
        "\n",
        "#     answer=query_mistral(query_string)\n",
        "#     #print(answer)\n",
        "#     res=is_fpnp(answer,get_GT(data[1],shortened_label))\n",
        "#     response_dict[res]+=1\n",
        "\n",
        "#   #copmute F1 score\n",
        "#   score=get_f1(response_dict['tp'],response_dict['fp'],response_dict['fn'])\n",
        "#   #print(score)\n",
        "#   return score\n",
        "\n",
        "#test\n",
        "#print(get_score(\"Does this clause state that any judicial proceeding is to be conducted in a place other than the consumer's residence (i.e. in a different city, different country)?\",sampled_df))"
      ],
      "metadata": {
        "id": "jrTrsfC1pMRM"
      },
      "execution_count": null,
      "outputs": []
    },
    {
      "cell_type": "code",
      "source": [
        "import json\n",
        "\n",
        "def save_to_file(dict_res,label,method):\n",
        "\n",
        "  # Convert dictionary to JSON string\n",
        "  json_str = json.dumps(dict_res, indent=2)\n",
        "\n",
        "  # Specify the file path\n",
        "  file_path = f\"result_{label}_{method}.json\"\n",
        "\n",
        "  # Write JSON string to a text file\n",
        "  with open(file_path, 'w') as file:\n",
        "      file.write(json_str)\n",
        "\n",
        "  print(f\"Dictionary has been saved to {file_path}\")"
      ],
      "metadata": {
        "id": "COXF4kCTRY_5"
      },
      "execution_count": null,
      "outputs": []
    },
    {
      "cell_type": "markdown",
      "source": [
        "# Main function"
      ],
      "metadata": {
        "id": "dnsRlsoL7zSC"
      }
    },
    {
      "cell_type": "code",
      "source": [
        "#main function : ALGORITHM 1\n",
        "\n",
        "def optimization(OGprompt,stopping_criterion,max_iter, shortened_label):\n",
        "  result_dict={}\n",
        "  #initial prompt in beam\n",
        "  init_dict={'prompt':OGprompt,'score':0}\n",
        "  beam=[]\n",
        "  beam.append(init_dict)\n",
        "  minibatch_df=sample_n_clauses(df_train,40,shortened_label)\n",
        "  beam[0]['score']=get_score_parallel(beam[0]['prompt'],minibatch_df, shortened_label)\n",
        "\n",
        "  eval=0\n",
        "\n",
        "  print(\"Initial beam: \", beam)\n",
        "  i=0\n",
        "\n",
        "  while(eval<=stopping_criterion and  i<max_iter):\n",
        "\n",
        "    print(f'****************Iteration {i+1} of {max_iter}****************\\n')\n",
        "    beam=expand_parallel(beam,7, shortened_label)\n",
        "    beam=select_parallel(beam,3,40,shortened_label)\n",
        "    result_dict[f\"iteration_{i}\"]=beam\n",
        "    print(f'****************End of iteration {i+1} ****************\\n')\n",
        "\n",
        "    eval=beam[0]['score']\n",
        "\n",
        "    i+=1\n",
        "  best=select_parallel(beam,1,40,shortened_label)\n",
        "  result_dict[\"best_prompt\"]=best\n",
        "  save_to_file(result_dict,shortened_label,\"Scores_as_gradients\")\n",
        "  return best\n",
        "\n",
        "#test\n",
        "# result=optimization(\"Does this clause stipulate that duties to pay damages by the provider are limited or excluded?\",0.98,10, \"LTD\")\n",
        "# print(result)"
      ],
      "metadata": {
        "id": "Udusplup74uE"
      },
      "execution_count": null,
      "outputs": []
    },
    {
      "cell_type": "code",
      "source": [
        "# TEST\n",
        "result_A=optimization('Does this clause describe an arbitration dispute resolution process that is not fully optional to the consumer?',0.98,10,\"A\")\n",
        "print(f\"RESULT ARBITRATION : {result_A}\")\n",
        "result_CH=optimization('Does this clause specify conditions under which the service provider could amend and modify the terms of service and/or the service itself?',0.98,10,\"CH\")\n",
        "print(f\"RESULT UNILATERAL CHANGE : {result_CH}\")\n",
        "result_CR=optimization(\"Does this clause indicate conditions for content removal in the service provider's full discretion, and/or at any time for any or no reasons and/or without notice nor possibility to retrieve the content.\",0.98,10,\"CR\")\n",
        "print(f\"RESULT CONTENT REMOVAL : {result_CR}\")\n",
        "result_J=optimization(\"Does this clause state that any judicial proceeding is to be conducted in a place other than the consumer's residence (i.e. in a different city, different country)?\",0.98,10,\"J\")\n",
        "print(f\"RESULT JURISDICTION : {result_J}\")\n",
        "result_LAW=optimization('Does the clause define the applicable law as different from the law of the consumer’s country of residence?',0.98,10,\"LAW\")\n",
        "print(f\"RESULT CHOICE OF LAW : {result_LAW}\")\n",
        "result_LTD=optimization('Does this clause stipulate that duties to pay damages by the provider are limited or excluded?',0.98,10,\"LTD\")\n",
        "print(f\"RESULT LIMITATION OF LIABILITY : {result_LTD}\")\n",
        "result_TER=optimization('Does this clause stipulate that the service provider may suspend or terminate the service at any time for any or no reasons and/or without notice?',0.98,10,\"TER\")\n",
        "print(f\"RESULT UNILATERAL TERMINATION : {result_TER}\")\n",
        "result_USE=optimization('Does this clause stipulate that the consumer is bound by the terms of use of a specific service, simply by using the service, without even being required to mark that he or she has read and accepted them?',0.98,10,\"USE\")\n",
        "print(f\"RESULT AGREEMENT BY USING : {result_USE}\")"
      ],
      "metadata": {
        "id": "JqkwmvW5Ogct",
        "colab": {
          "base_uri": "https://localhost:8080/"
        },
        "outputId": "0b584888-01c3-4f31-c67c-650aff695dee"
      },
      "execution_count": null,
      "outputs": [
        {
          "output_type": "stream",
          "name": "stdout",
          "text": [
            "Initial beam:  [{'prompt': 'Does this clause stipulate that the consumer is bound by the terms of use of a specific service, simply by using the service, without even being required to mark that he or she has read and accepted them?', 'score': 0.7241379310344828}]\n",
            "****************Iteration 1 of 10****************\n",
            "\n",
            "Candidates:  [{'prompt': 'Does this clause stipulate that the consumer is bound by the terms of use of a specific service, simply by using the service, without even being required to mark that he or she has read and accepted them?', 'score': 0.7241379310344828}, {'prompt': ' Classify the following clause: \"By accessing our online platform, you agree to our terms and conditions.\" <F1-score: 0.6', 'score': 0}, {'prompt': ' The instruction provided should specify the use of the clause in the online service contract, with no mention of any terms or conditions required for the consumer to be aware of when using the service.', 'score': 0}, {'prompt': \" <InstructionScorePair1>Instruction: Does this clause restrictively provide a service only to online service contract users and revoke it's service from any non-online service contract users? F1-Score: 0.5699\", 'score': 0}, {'prompt': ' Write an instruction for an online service contract that would not be considered unfair under European Law. Instruction: The service is provided on the condition that the user has read and accepted the terms of use, which are clearly displayed on the website and can be', 'score': 0}, {'prompt': 'create a contract clause that clearly states that the consumer is required to review and agree to the terms of use before accessing the service. F1-Score: 0.801676333359782', 'score': 0}, {'prompt': ' Ensure that any clauses regarding service use require explicit acceptance before binding the consumer.\\n<InstructionScorePair1>Instruction: Does this clause require the user to provide personal information to the service provider, and if so, what type of information and for', 'score': 0}, {'prompt': ' <InstructionScorePair1>Instruction: Does this clause make it mandatory for the consumer to agree to the entirety of the terms of use of this online service before using the service, without allowing for partial cancellation or modification of the agreement? F1', 'score': 0}]\n",
            "\n",
            "SELECTING top 3 from the beam\n",
            "\n",
            "The top 3 selected prompts from beam are: [{'prompt': ' <InstructionScorePair1>Instruction: Does this clause make it mandatory for the consumer to agree to the entirety of the terms of use of this online service before using the service, without allowing for partial cancellation or modification of the agreement? F1', 'score': 0.7692307692307693}, {'prompt': 'Does this clause stipulate that the consumer is bound by the terms of use of a specific service, simply by using the service, without even being required to mark that he or she has read and accepted them?', 'score': 0.7272727272727273}, {'prompt': ' Classify the following clause: \"By accessing our online platform, you agree to our terms and conditions.\" <F1-score: 0.6', 'score': 0.723404255319149}]\n",
            "****************End of iteration 1 ****************\n",
            "\n",
            "****************Iteration 2 of 10****************\n",
            "\n",
            "Candidates:  [{'prompt': ' <InstructionScorePair1>Instruction: Does this clause make it mandatory for the consumer to agree to the entirety of the terms of use of this online service before using the service, without allowing for partial cancellation or modification of the agreement? F1', 'score': 0.7692307692307693}, {'prompt': 'Does this clause stipulate that the consumer is bound by the terms of use of a specific service, simply by using the service, without even being required to mark that he or she has read and accepted them?', 'score': 0.7272727272727273}, {'prompt': ' Classify the following clause: \"By accessing our online platform, you agree to our terms and conditions.\" <F1-score: 0.6', 'score': 0.723404255319149}, {'prompt': ' It is not possible to generate an instruction for a contract using a clause classification task alone, as the specific terms and conditions of the contract cannot be determined without additional information or context.', 'score': 0}, {'prompt': ' The clause \"You accept the terms and conditions of the online service before accessing it\" may be considered potentially unfair under European Law. This can be classified as mandatory agreement without partial cancellation or modification.', 'score': 0}, {'prompt': ' <Instructions> \\n<InstructionScorePair0>Instruction: <InstructionScorePair0> \\n1. This clause makes it mandatory for the consumer to agree to the entirety of the terms of use of this online service before using the', 'score': 0}, {'prompt': \" InstructionScorePair3: Does this clause limit the customer's ability to cancel or modify the agreement but only within a specified time period? \\n\\nClassification: Ungod luck! I'm an AI and I don't\", 'score': 0}, {'prompt': ' Offer personalized fitness coaching online, with weekly individualized workouts and nutrition plans based on your personal goals and preferences. Our experienced coaches will guide you through your fitness journey, motivating you to achieve your full potential. Our online coaching platform is', 'score': 0}, {'prompt': ' Task: Using the clause classification task, generate an instruction for a contract that would be classified as potentially unfair under European Law. There will be three different clauses to consider.\\n\\nResult:\\n\\n1. Does this clause make it mandatory for', 'score': 0}, {'prompt': ' Your task is to generate the instruction \"Does this clause allow for partial cancellation or modification of the agreement before using the service?\" for an online service contract, using the clause classification task \"Does this clause make it mandatory for the consumer to agree to the', 'score': 0}]\n",
            "\n",
            "SELECTING top 3 from the beam\n",
            "\n",
            "The top 3 selected prompts from beam are: [{'prompt': ' <Instructions> \\n<InstructionScorePair0>Instruction: <InstructionScorePair0> \\n1. This clause makes it mandatory for the consumer to agree to the entirety of the terms of use of this online service before using the', 'score': 0.7169811320754716}, {'prompt': 'Does this clause stipulate that the consumer is bound by the terms of use of a specific service, simply by using the service, without even being required to mark that he or she has read and accepted them?', 'score': 0.6785714285714286}, {'prompt': ' <InstructionScorePair1>Instruction: Does this clause make it mandatory for the consumer to agree to the entirety of the terms of use of this online service before using the service, without allowing for partial cancellation or modification of the agreement? F1', 'score': 0.6666666666666666}]\n",
            "****************End of iteration 2 ****************\n",
            "\n",
            "****************Iteration 3 of 10****************\n",
            "\n",
            "Candidates:  [{'prompt': ' <Instructions> \\n<InstructionScorePair0>Instruction: <InstructionScorePair0> \\n1. This clause makes it mandatory for the consumer to agree to the entirety of the terms of use of this online service before using the', 'score': 0.7169811320754716}, {'prompt': 'Does this clause stipulate that the consumer is bound by the terms of use of a specific service, simply by using the service, without even being required to mark that he or she has read and accepted them?', 'score': 0.6785714285714286}, {'prompt': ' <InstructionScorePair1>Instruction: Does this clause make it mandatory for the consumer to agree to the entirety of the terms of use of this online service before using the service, without allowing for partial cancellation or modification of the agreement? F1', 'score': 0.6666666666666666}, {'prompt': ' Contract clause: Do you require mandatory signature-on-acceptance for the entirety of online service terms before usage? Allow for partial cancellation or modification of the agreement. F1 Score: 0.70.', 'score': 0}, {'prompt': ' 1. Identification of mandatory clauses in online service contracts.\\r\\n2. Ensuring that the clause stipulates that the consumer is bound by the terms of use without explicit acceptance.\\r\\n3. Check if the clause makes it mandatory', 'score': 0}, {'prompt': ' As per clause classification task, below is the instruction with clarifications:\\n\\n1. Clause: *This clause makes it mandatory for the consumer to agree to the entirety of the terms of use of this online service before using the service.*', 'score': 0}, {'prompt': ' Below are some previous instructions with their scores, ranging from 0 to 1.\\n\\n1. This clause makes it mandatory for the consumer to agree to the entirety of the terms of use of this online service before using the network. F', 'score': 0}, {'prompt': ' 1. This clause requires the consumer to agree to all terms of use before using the online service.\\n2. Yes, this clause binds the consumer to the terms of use of the specific service by using it, without requiring acceptance.\\n', 'score': 0}, {'prompt': ' <InstructionScorePair3>Instruction: Does this clause make it mandatory for the consumer to agree to the entirety of the terms of use of this online service before using the service, without allowing for partial cancellation or modification of the agreement, OR does', 'score': 0}, {'prompt': ' Use the task to generate an instruction: \"This clause makes it mandatory for the consumer to agree to the entirety of the terms of use of this online service before using the service.\"', 'score': 0}]\n",
            "\n",
            "SELECTING top 3 from the beam\n",
            "\n",
            "The top 3 selected prompts from beam are: [{'prompt': ' As per clause classification task, below is the instruction with clarifications:\\n\\n1. Clause: *This clause makes it mandatory for the consumer to agree to the entirety of the terms of use of this online service before using the service.*', 'score': 0.7755102040816326}, {'prompt': 'Does this clause stipulate that the consumer is bound by the terms of use of a specific service, simply by using the service, without even being required to mark that he or she has read and accepted them?', 'score': 0.7272727272727273}, {'prompt': ' <Instructions> \\n<InstructionScorePair0>Instruction: <InstructionScorePair0> \\n1. This clause makes it mandatory for the consumer to agree to the entirety of the terms of use of this online service before using the', 'score': 0.7058823529411765}]\n",
            "****************End of iteration 3 ****************\n",
            "\n",
            "****************Iteration 4 of 10****************\n",
            "\n",
            "Candidates:  [{'prompt': ' As per clause classification task, below is the instruction with clarifications:\\n\\n1. Clause: *This clause makes it mandatory for the consumer to agree to the entirety of the terms of use of this online service before using the service.*', 'score': 0.7755102040816326}, {'prompt': 'Does this clause stipulate that the consumer is bound by the terms of use of a specific service, simply by using the service, without even being required to mark that he or she has read and accepted them?', 'score': 0.7272727272727273}, {'prompt': ' <Instructions> \\n<InstructionScorePair0>Instruction: <InstructionScorePair0> \\n1. This clause makes it mandatory for the consumer to agree to the entirety of the terms of use of this online service before using the', 'score': 0.7058823529411765}, {'prompt': ' SCore: 0.7058823529411765', 'score': 0}, {'prompt': ' F1-Score: 0.6873277845917137.', 'score': 0}, {'prompt': ' Instruction: This clause requires the consumer to agree to all terms before using an online service, making it potentially unfair according to European Law.', 'score': 0}, {'prompt': ' Clause: *This clause makes it mandatory for the consumer to agree to the entirety of the terms of use of this online service before using <Instructions>.*\\n\\nF1-Score: 0.75', 'score': 0}, {'prompt': ' Objective: Write an instruction for an online service contract using the classification task.\\n\\nPairs of instructions and F1 scores:\\n\\n* Pair 1: This clause makes it mandatory for the consumer to agree to the entirety of', 'score': 0}, {'prompt': ' This clause requires the consumer to agree to all terms of use of the online service before using the service, potentially preventing the consumer from objecting to any terms they disagree with. Avoid using this clause to provide a means of trapping consumers into adher', 'score': 0}, {'prompt': ' The instruction is to create an online service contract with a clause that makes it mandatory for the consumer to agree to the entirety of the terms of use before using the service. This clause stipulates that the consumer is bound by the terms of use', 'score': 0}]\n",
            "\n",
            "SELECTING top 3 from the beam\n",
            "\n",
            "The top 3 selected prompts from beam are: [{'prompt': ' Objective: Write an instruction for an online service contract using the classification task.\\n\\nPairs of instructions and F1 scores:\\n\\n* Pair 1: This clause makes it mandatory for the consumer to agree to the entirety of', 'score': 0.8235294117647058}, {'prompt': ' As per clause classification task, below is the instruction with clarifications:\\n\\n1. Clause: *This clause makes it mandatory for the consumer to agree to the entirety of the terms of use of this online service before using the service.*', 'score': 0.8}, {'prompt': ' F1-Score: 0.6873277845917137.', 'score': 0.7924528301886793}]\n",
            "****************End of iteration 4 ****************\n",
            "\n",
            "****************Iteration 5 of 10****************\n",
            "\n",
            "Candidates:  [{'prompt': ' Objective: Write an instruction for an online service contract using the classification task.\\n\\nPairs of instructions and F1 scores:\\n\\n* Pair 1: This clause makes it mandatory for the consumer to agree to the entirety of', 'score': 0.8235294117647058}, {'prompt': ' As per clause classification task, below is the instruction with clarifications:\\n\\n1. Clause: *This clause makes it mandatory for the consumer to agree to the entirety of the terms of use of this online service before using the service.*', 'score': 0.8}, {'prompt': ' F1-Score: 0.6873277845917137.', 'score': 0.7924528301886793}, {'prompt': ' Use the classification task to determine an instruction for the obligation clause in an online service contract that requires consent to the entirety of the service conditions before use.', 'score': 0}, {'prompt': ' This instruction F1-Score: 0.7747645635129506<InstructionScorePair2>', 'score': 0}, {'prompt': ' <InstructionScorePair3>Instruction:  F1-Score: 0.7272457461538462. F1-Score: 0.81874920', 'score': 0}, {'prompt': ' Pair 3: F1-Score: 0.7539923454254769.\\n\\nObjective: Write an instruction for an online service contract using the classification task.\\nAs', 'score': 0}, {'prompt': ' Objective: Write an instruction for an online service contract using the classification task.\\n\\nPairs of instructions and F1 scores:\\n\\n* Pair 1: This clause makes it mandatory for the consumer to agree to the entirety of', 'score': 0}, {'prompt': ' Instruction: Write an instruction for an online service contract using the classification task.\\n\\nInstructions:\\n\\n* Below is the instruction with clarifications as per clause classification task:\\n\\n1. Clause: *This clause makes it mandatory', 'score': 0}, {'prompt': ' Task: Write an instruction for an online service contract using the classification task.\\n\\nPairs of instructions and F1 scores:\\n\\n* Pair 1: This clause makes it mandatory for the consumer to agree to the entirety of the', 'score': 0}]\n",
            "\n",
            "SELECTING top 3 from the beam\n",
            "\n",
            "The top 3 selected prompts from beam are: [{'prompt': ' As per clause classification task, below is the instruction with clarifications:\\n\\n1. Clause: *This clause makes it mandatory for the consumer to agree to the entirety of the terms of use of this online service before using the service.*', 'score': 0.8076923076923077}, {'prompt': ' Objective: Write an instruction for an online service contract using the classification task.\\n\\nPairs of instructions and F1 scores:\\n\\n* Pair 1: This clause makes it mandatory for the consumer to agree to the entirety of', 'score': 0.7924528301886793}, {'prompt': ' Objective: Write an instruction for an online service contract using the classification task.\\n\\nPairs of instructions and F1 scores:\\n\\n* Pair 1: This clause makes it mandatory for the consumer to agree to the entirety of', 'score': 0.7924528301886793}]\n",
            "****************End of iteration 5 ****************\n",
            "\n",
            "****************Iteration 6 of 10****************\n",
            "\n",
            "Candidates:  [{'prompt': ' As per clause classification task, below is the instruction with clarifications:\\n\\n1. Clause: *This clause makes it mandatory for the consumer to agree to the entirety of the terms of use of this online service before using the service.*', 'score': 0.8076923076923077}, {'prompt': ' Objective: Write an instruction for an online service contract using the classification task.\\n\\nPairs of instructions and F1 scores:\\n\\n* Pair 1: This clause makes it mandatory for the consumer to agree to the entirety of', 'score': 0.7924528301886793}, {'prompt': ' Objective: Write an instruction for an online service contract using the classification task.\\n\\nPairs of instructions and F1 scores:\\n\\n* Pair 1: This clause makes it mandatory for the consumer to agree to the entirety of', 'score': 0.7924528301886793}, {'prompt': ' <InstructionScorePair3>Instruction: Objective: Write an instruction for an online service contract using the classification task.', 'score': 0}, {'prompt': ' instruction: Write an instruction for an online service contract using the classification task. \\nf1 score: 0.7924528301886793', 'score': 0}, {'prompt': ' <InstructionScorePair3>Instruction:  Objective: Write a fair online service contract using clause classification task. With a focus on addressing potential imbalances in power between the service provider and the consumer. F1-Score: 0.', 'score': 0}, {'prompt': ' 1. Clause: *Consumers must agree to all of the terms and conditions of the online service before accessing the service.* F1-Score: 0.79245283018867', 'score': 0}, {'prompt': ' Based on the given pairs with their F1 scores, the instruction generated using the classification task would likely state that it is mandatory for the consumer to agree to the entirety of the terms of use of the online service before using the service. This would', 'score': 0}, {'prompt': ' <InstructionScorePair3>Instruction:  Write a clear instruction on how to use an online service that has terms of use. Use clause classification techniques to ensure clarity and fairness. Briefly outline the key points of the terms of use while', 'score': 0}, {'prompt': \" Sure, here's an instruction for an online service contract:\\n\\n<InstructionScorePair>: Objective: Write an instruction for an online service contract using the classification task.\\n\\n<Instruction>: This clause makes it mandatory for the consumer to\", 'score': 0}]\n",
            "\n",
            "SELECTING top 3 from the beam\n",
            "\n",
            "The top 3 selected prompts from beam are: [{'prompt': ' Based on the given pairs with their F1 scores, the instruction generated using the classification task would likely state that it is mandatory for the consumer to agree to the entirety of the terms of use of the online service before using the service. This would', 'score': 0.7755102040816326}, {'prompt': ' Objective: Write an instruction for an online service contract using the classification task.\\n\\nPairs of instructions and F1 scores:\\n\\n* Pair 1: This clause makes it mandatory for the consumer to agree to the entirety of', 'score': 0.6923076923076923}, {'prompt': ' Objective: Write an instruction for an online service contract using the classification task.\\n\\nPairs of instructions and F1 scores:\\n\\n* Pair 1: This clause makes it mandatory for the consumer to agree to the entirety of', 'score': 0.6923076923076923}]\n",
            "****************End of iteration 6 ****************\n",
            "\n",
            "****************Iteration 7 of 10****************\n",
            "\n",
            "Candidates:  [{'prompt': ' Based on the given pairs with their F1 scores, the instruction generated using the classification task would likely state that it is mandatory for the consumer to agree to the entirety of the terms of use of the online service before using the service. This would', 'score': 0.7755102040816326}, {'prompt': ' Objective: Write an instruction for an online service contract using the classification task.\\n\\nPairs of instructions and F1 scores:\\n\\n* Pair 1: This clause makes it mandatory for the consumer to agree to the entirety of', 'score': 0.6923076923076923}, {'prompt': ' Objective: Write an instruction for an online service contract using the classification task.\\n\\nPairs of instructions and F1 scores:\\n\\n* Pair 1: This clause makes it mandatory for the consumer to agree to the entirety of', 'score': 0.6923076923076923}, {'prompt': ' <InstructionScorePair3>Instruction:  Objective: Write an instruction for an online service contract using the classification task.\\n\\nPairs of instructions and F1 scores:', 'score': 0}, {'prompt': ' <InstructionScorePair3>Instruction:  Write an instruction for an online service contract using the classification task.\\n\\nPairs of instructions and F1 scores:\\n\\n* Pair 1: This clause requires the consumer to accept all and', 'score': 0}, {'prompt': ' Prior to using the online service subscription, the consumer must agree to the entirety of the terms and conditions contained within the service agreement.\\n\\nF1 Score: 0.77551020408163', 'score': 0}, {'prompt': ' Objective: Write an instruction for an online service contract using the classification task. Track your F1 scores using the below pairs to ensure the instruction is fair and follows European Law.\\n\\nPairs of instructions and F1 scores:\\n\\n*', 'score': 0}, {'prompt': ' Instruction: This contract clause makes it necessary for consumers to agree to the full terms of use of the online service before using the service. The F1 score for this instruction is 0.78401166957', 'score': 0}, {'prompt': \" Task: Instruction for an online service contract using the classification task.\\n\\nPairs of instructions and F1 scores:\\n\\n* Pair 1: This clause requires the consumer to agree to the service's entire terms of use before\", 'score': 0}, {'prompt': ' instruction would require the consumer to opt-in to allow the service access to their data for marketing and advertising purposes. F1-Score: 0.8592515768647778\\n\\nPair', 'score': 0}]\n",
            "\n",
            "SELECTING top 3 from the beam\n",
            "\n",
            "The top 3 selected prompts from beam are: [{'prompt': ' Objective: Write an instruction for an online service contract using the classification task.\\n\\nPairs of instructions and F1 scores:\\n\\n* Pair 1: This clause makes it mandatory for the consumer to agree to the entirety of', 'score': 0.7037037037037037}, {'prompt': ' Objective: Write an instruction for an online service contract using the classification task.\\n\\nPairs of instructions and F1 scores:\\n\\n* Pair 1: This clause makes it mandatory for the consumer to agree to the entirety of', 'score': 0.7037037037037037}, {'prompt': ' <InstructionScorePair3>Instruction:  Objective: Write an instruction for an online service contract using the classification task.\\n\\nPairs of instructions and F1 scores:', 'score': 0.6885245901639344}]\n",
            "****************End of iteration 7 ****************\n",
            "\n",
            "****************Iteration 8 of 10****************\n",
            "\n",
            "Candidates:  [{'prompt': ' Objective: Write an instruction for an online service contract using the classification task.\\n\\nPairs of instructions and F1 scores:\\n\\n* Pair 1: This clause makes it mandatory for the consumer to agree to the entirety of', 'score': 0.7037037037037037}, {'prompt': ' Objective: Write an instruction for an online service contract using the classification task.\\n\\nPairs of instructions and F1 scores:\\n\\n* Pair 1: This clause makes it mandatory for the consumer to agree to the entirety of', 'score': 0.7037037037037037}, {'prompt': ' <InstructionScorePair3>Instruction:  Objective: Write an instruction for an online service contract using the classification task.\\n\\nPairs of instructions and F1 scores:', 'score': 0.6885245901639344}, {'prompt': ' Create an instruction for an online service contract using the classification task while avoiding potentially unfair clauses under European Law.', 'score': 0}, {'prompt': ' Generate a set of instructions for an online service contract using a classification task. Pairs of instructions and scores: Pair 1, Pair 4.', 'score': 0}, {'prompt': ' F1-Score: 0.8216420707021419\\n\\nWrite an instruction for an online service contract that clearly states the services that will be provided, any fees or charges, the', 'score': 0}, {'prompt': \" Instruction: Write an instruction for online service contract <MenuItemType>, <Instruction>\\n\\nPairs of instructions and F1 scores:\\n\\n* Pair 1: This clause sets the user's choice to default to F1-\", 'score': 0}, {'prompt': ' <InstructionScorePair3>Instruction score: 0.68852 (Role-Playing model)\\n<Instruction>Objective: Write an instruction for an online service contract using the classification task.\\r\\n<InstructionScorePair4', 'score': 0}, {'prompt': \" Instruction: Objective: Write an instruction for an online service contract using the classification task.\\n\\nPair 1: This clause limits the consumer's options and flexibility by making certain services mandatory, potentially violating European Law. F1-\", 'score': 0}, {'prompt': ' <InstructionScorePair3>\\nInstruction: This clause allows for compensation to be sought if the online service is faulty, disrupted or otherwise not performed in accordance with the contract.<InstructionScorePair4>F1-Score: 0.', 'score': 0}]\n",
            "\n",
            "SELECTING top 3 from the beam\n",
            "\n",
            "The top 3 selected prompts from beam are: [{'prompt': \" Instruction: Objective: Write an instruction for an online service contract using the classification task.\\n\\nPair 1: This clause limits the consumer's options and flexibility by making certain services mandatory, potentially violating European Law. F1-\", 'score': 0.8085106382978723}, {'prompt': ' Objective: Write an instruction for an online service contract using the classification task.\\n\\nPairs of instructions and F1 scores:\\n\\n* Pair 1: This clause makes it mandatory for the consumer to agree to the entirety of', 'score': 0.7692307692307693}, {'prompt': ' Objective: Write an instruction for an online service contract using the classification task.\\n\\nPairs of instructions and F1 scores:\\n\\n* Pair 1: This clause makes it mandatory for the consumer to agree to the entirety of', 'score': 0.7692307692307693}]\n",
            "****************End of iteration 8 ****************\n",
            "\n",
            "****************Iteration 9 of 10****************\n",
            "\n",
            "Candidates:  [{'prompt': \" Instruction: Objective: Write an instruction for an online service contract using the classification task.\\n\\nPair 1: This clause limits the consumer's options and flexibility by making certain services mandatory, potentially violating European Law. F1-\", 'score': 0.8085106382978723}, {'prompt': ' Objective: Write an instruction for an online service contract using the classification task.\\n\\nPairs of instructions and F1 scores:\\n\\n* Pair 1: This clause makes it mandatory for the consumer to agree to the entirety of', 'score': 0.7692307692307693}, {'prompt': ' Objective: Write an instruction for an online service contract using the classification task.\\n\\nPairs of instructions and F1 scores:\\n\\n* Pair 1: This clause makes it mandatory for the consumer to agree to the entirety of', 'score': 0.7692307692307693}, {'prompt': ' Generate an instruction for an online service contract using the classification task that does not limit consumer options or flexibility.', 'score': 0}, {'prompt': ' Write \"This clause limits the consumer\\'s options and flexibility by making certain services mandatory, potentially violating European Law.\"', 'score': 0}, {'prompt': ' <InstructionScorePair3>Instruction:  Objective: Write an instruction for an online service contract using the classification task.\\n\\nPairs of instructions and F1 scores:\\n\\n* Pair 1: This clause restricts certain services', 'score': 0}, {'prompt': \" 1. This clause limits the consumer's options and flexibility by making certain services mandatory, potentially violating European Law.\\n2. Make a consumer agree to the entirety of the clause on a mandatory basis.\\n\\nPaired scores:\", 'score': 0}, {'prompt': \" <InstructionScorePair3>Instruction:  Objective: Write an instruction for an online service contract using the classification task.\\n\\nPairs of instructions and F1 scores:\\n\\n* Pair 1: This clause limits the consumer'\", 'score': 0}, {'prompt': ' In order to write an instruction for an online service contract using the clause classification task, it is important to consider the potential harm that certain clauses may cause to consumers. It is crucial to ensure that the contract language complies with European Law and is', 'score': 0}, {'prompt': \" Instruction: Write an instruction for an online service contract using the classification task.\\nObjective: Exclude clauses that may be potentially unfair under European Law.\\n\\nPair 1: This clause limits the consumer's options and flexibility,\", 'score': 0}]\n",
            "\n",
            "SELECTING top 3 from the beam\n",
            "\n",
            "The top 3 selected prompts from beam are: [{'prompt': ' Objective: Write an instruction for an online service contract using the classification task.\\n\\nPairs of instructions and F1 scores:\\n\\n* Pair 1: This clause makes it mandatory for the consumer to agree to the entirety of', 'score': 0.8}, {'prompt': ' Objective: Write an instruction for an online service contract using the classification task.\\n\\nPairs of instructions and F1 scores:\\n\\n* Pair 1: This clause makes it mandatory for the consumer to agree to the entirety of', 'score': 0.8}, {'prompt': \" Instruction: Objective: Write an instruction for an online service contract using the classification task.\\n\\nPair 1: This clause limits the consumer's options and flexibility by making certain services mandatory, potentially violating European Law. F1-\", 'score': 0.7916666666666666}]\n",
            "****************End of iteration 9 ****************\n",
            "\n",
            "****************Iteration 10 of 10****************\n",
            "\n",
            "Candidates:  [{'prompt': ' Objective: Write an instruction for an online service contract using the classification task.\\n\\nPairs of instructions and F1 scores:\\n\\n* Pair 1: This clause makes it mandatory for the consumer to agree to the entirety of', 'score': 0.8}, {'prompt': ' Objective: Write an instruction for an online service contract using the classification task.\\n\\nPairs of instructions and F1 scores:\\n\\n* Pair 1: This clause makes it mandatory for the consumer to agree to the entirety of', 'score': 0.8}, {'prompt': \" Instruction: Objective: Write an instruction for an online service contract using the classification task.\\n\\nPair 1: This clause limits the consumer's options and flexibility by making certain services mandatory, potentially violating European Law. F1-\", 'score': 0.7916666666666666}, {'prompt': ' Task Instruction: Write an instruction for an online service contract using the classification task.', 'score': 0}, {'prompt': ' Possible instruction: Objective: Write a clause that allows the consumer to choose services that they prefer and do not limit their options or flexibility. Ensure that it avoids potential violations of European Law related to consumer protection.', 'score': 0}, {'prompt': \" Write an instruction for an online service contract that is not unfair or restrictive, and clearly outlines the consumer's rights and obligations. Include a disclaimer that any additional terms or services may be subject to change in the future.\", 'score': 0}, {'prompt': \" Use the classification task to write instructions for an online service contract, making sure that it complies with European Law's fairness clauses. Avoid limiting the consumer's options by making services mandatory. Aim for an F1 score of \", 'score': 0}, {'prompt': ' To ensure compliance with European Law, contracts for online services must not contain provisions that are deemed unfair or limit consumer choice.Instructions: Write an instruction on the importance of compliance with European Law when crafting online service contracts.\\nScores:', 'score': 0}, {'prompt': ' Write an instruction for an online service contract using the classification task while avoiding clauses that may be deemed unfair under European Law by ensuring that the consumer has options and flexibility. F1-Score: 0.99866666', 'score': 0}, {'prompt': ' <InstructionScorePair3>Instruction: Write a clause that gives the consumer the option to choose their preferred service and payment plan, and specify any necessary information for service delivery, while ensuring compliance with consumer protection laws. F1-Score: 0', 'score': 0}]\n",
            "\n",
            "SELECTING top 3 from the beam\n",
            "\n",
            "The top 3 selected prompts from beam are: [{'prompt': ' Objective: Write an instruction for an online service contract using the classification task.\\n\\nPairs of instructions and F1 scores:\\n\\n* Pair 1: This clause makes it mandatory for the consumer to agree to the entirety of', 'score': 0.8}, {'prompt': ' Objective: Write an instruction for an online service contract using the classification task.\\n\\nPairs of instructions and F1 scores:\\n\\n* Pair 1: This clause makes it mandatory for the consumer to agree to the entirety of', 'score': 0.7843137254901961}, {'prompt': \" Instruction: Objective: Write an instruction for an online service contract using the classification task.\\n\\nPair 1: This clause limits the consumer's options and flexibility by making certain services mandatory, potentially violating European Law. F1-\", 'score': 0.6956521739130435}]\n",
            "****************End of iteration 10 ****************\n",
            "\n",
            "\n",
            "SELECTING top 1 from the beam\n",
            "\n",
            "The top 1 selected prompts from beam are: [{'prompt': \" Instruction: Objective: Write an instruction for an online service contract using the classification task.\\n\\nPair 1: This clause limits the consumer's options and flexibility by making certain services mandatory, potentially violating European Law. F1-\", 'score': 0.7727272727272727}]\n",
            "Dictionary has been saved to result_USE_Scores_as_gradients.json\n",
            "RESULT AGREEMENT BY USING : [{'prompt': \" Instruction: Objective: Write an instruction for an online service contract using the classification task.\\n\\nPair 1: This clause limits the consumer's options and flexibility by making certain services mandatory, potentially violating European Law. F1-\", 'score': 0.7727272727272727}]\n"
          ]
        }
      ]
    },
    {
      "cell_type": "code",
      "source": [
        "# TEST\n",
        "print(f\"RESULT ARBITRATION : {result_A}\")\n",
        "print(f\"RESULT UNILATERAL CHANGE : {result_CH}\")\n",
        "print(f\"RESULT CONTENT REMOVAL : {result_CR}\")\n",
        "print(f\"RESULT JURISDICTION : {result_J}\")\n",
        "print(f\"RESULT CHOICE OF LAW : {result_LAW}\")\n",
        "print(f\"RESULT LIMITATION OF LIABILITY : {result_LTD}\")\n",
        "print(f\"RESULT UNILATERAL TERMINATION : {result_TER}\")\n",
        "print(f\"RESULT AGREEMENT BY USING : {result_USE}\")"
      ],
      "metadata": {
        "id": "5xP338DLRjHf",
        "colab": {
          "base_uri": "https://localhost:8080/"
        },
        "outputId": "4c628cab-3a9b-45b5-9c35-db40c437a086"
      },
      "execution_count": null,
      "outputs": [
        {
          "output_type": "stream",
          "name": "stdout",
          "text": [
            "RESULT ARBITRATION : [{'prompt': ' Suggested Task: Identify and classify arbitration clauses according to their type (expedited, default, etc.).', 'score': 0.8292682926829268}]\n",
            "RESULT UNILATERAL CHANGE : [{'prompt': 'Does this clause specify conditions under which the service provider could amend and modify the terms of service and/or the service itself?', 'score': 0.8717948717948718}]\n",
            "RESULT CONTENT REMOVAL : [{'prompt': \" <InstructionScorePair3>Instruction:  Task: Evaluate online service contracts for content removal practices.\\nInstructions:\\n\\n1. Does this clause allow for content removal without prior notice, and/or at the service provider's discret\", 'score': 0.926829268292683}]\n",
            "RESULT JURISDICTION : [{'prompt': ' Instruction: Identify clauses in online service contracts that indicate a jurisdiction requirement for judicial proceedings outside of the consumer\\'s primary residence. Use the examples below to test your F1-Score: \\n\\n- \"In the event', 'score': 1.0}]\n",
            "RESULT CHOICE OF LAW : [{'prompt': ' Instruction: Does the clause provide a statement of the applicable law, referring to the one(s) specified parties wish to submit to? F1-Score: 0.9', 'score': 0.9230769230769231}]\n",
            "RESULT LIMITATION OF LIABILITY : [{'prompt': ' instruction: Task: Identify any limitations or exclusions of liability imposed on the provider under the online service contract and classify the clause as potentially unfair under European Law, using the guidance provided in Article 3.1.', 'score': 0.8163265306122449}]\n",
            "RESULT UNILATERAL TERMINATION : [{'prompt': ' <InstructionScorePair0>\\nTask: Classify clauses in online service contracts and identify any that may be considered advantageous to the service provider and allow them to terminate the service on their own with minimal consequences or notice. <InstructionScore', 'score': 1.0}]\n",
            "RESULT AGREEMENT BY USING : [{'prompt': ' 100-0.8794422888888889', 'score': 0.7555555555555555}]\n"
          ]
        }
      ]
    },
    {
      "cell_type": "code",
      "source": [],
      "metadata": {
        "id": "IwbZzG_yZvRD"
      },
      "execution_count": null,
      "outputs": []
    }
  ]
}